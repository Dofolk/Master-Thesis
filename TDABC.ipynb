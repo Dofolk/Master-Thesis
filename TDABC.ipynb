{
 "cells": [
  {
   "cell_type": "code",
   "execution_count": null,
   "metadata": {},
   "outputs": [],
   "source": [
    "import numpy as np\n",
    "import gudhi\n",
    "import math\n"
   ]
  },
  {
   "cell_type": "code",
   "execution_count": null,
   "metadata": {},
   "outputs": [],
   "source": [
    "# algorithm 5\n",
    "# let input data be P\n",
    "def A5(P):\n",
    "    q = 15\n",
    "    K = gudhi.RipsComplex(points = P)\n",
    "    S = K.create_simplex_tree(max_dim=1)\n",
    "    c = math.ceil(q/3)\n",
    "    num = S.num_simplices()\n",
    "    while True:\n",
    "        S.collapse_edges(nb_iterations = c)\n",
    "        i += 1\n",
    "        if num == S.num_simplices():\n",
    "            break\n",
    "        if i >100:\n",
    "            break\n",
    "        num = S.num_simplies()\n",
    "    S.expansion(q)\n",
    "    return S"
   ]
  },
  {
   "cell_type": "code",
   "execution_count": null,
   "metadata": {},
   "outputs": [],
   "source": [
    "#algorithm 4\n",
    "#"
   ]
  }
 ],
 "metadata": {
  "kernelspec": {
   "display_name": "Python 3",
   "language": "python",
   "name": "python3"
  },
  "language_info": {
   "codemirror_mode": {
    "name": "ipython",
    "version": 3
   },
   "file_extension": ".py",
   "mimetype": "text/x-python",
   "name": "python",
   "nbconvert_exporter": "python",
   "pygments_lexer": "ipython3",
   "version": "3.8.5"
  }
 },
 "nbformat": 4,
 "nbformat_minor": 4
}
